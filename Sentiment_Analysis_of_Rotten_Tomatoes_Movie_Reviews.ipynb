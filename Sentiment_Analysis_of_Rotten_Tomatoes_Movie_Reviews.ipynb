{
  "nbformat": 4,
  "nbformat_minor": 0,
  "metadata": {
    "kernelspec": {
      "display_name": "Python 3",
      "language": "python",
      "name": "python3"
    },
    "language_info": {
      "codemirror_mode": {
        "name": "ipython",
        "version": 3
      },
      "file_extension": ".py",
      "mimetype": "text/x-python",
      "name": "python",
      "nbconvert_exporter": "python",
      "pygments_lexer": "ipython3",
      "version": "3.6.4"
    },
    "colab": {
      "name": "Sentiment Analysis of Rotten Tomatoes Movie Reviews.ipynb",
      "provenance": [],
      "collapsed_sections": [],
      "include_colab_link": true
    }
  },
  "cells": [
    {
      "cell_type": "markdown",
      "metadata": {
        "id": "view-in-github",
        "colab_type": "text"
      },
      "source": [
        "<a href=\"https://colab.research.google.com/github/gitakartika/sentiment-analysis-of-movie-reviews/blob/master/Sentiment_Analysis_of_Rotten_Tomatoes_Movie_Reviews.ipynb\" target=\"_parent\"><img src=\"https://colab.research.google.com/assets/colab-badge.svg\" alt=\"Open In Colab\"/></a>"
      ]
    },
    {
      "cell_type": "code",
      "metadata": {
        "id": "IA5UeW7cEGZN",
        "colab_type": "code",
        "outputId": "687effb9-2aa3-4283-f92e-4f0eb27fee43",
        "colab": {
          "base_uri": "https://localhost:8080/",
          "height": 33
        }
      },
      "source": [
        "from google.colab import drive\n",
        "drive.mount('/content/drive')"
      ],
      "execution_count": 0,
      "outputs": [
        {
          "output_type": "stream",
          "text": [
            "Drive already mounted at /content/drive; to attempt to forcibly remount, call drive.mount(\"/content/drive\", force_remount=True).\n"
          ],
          "name": "stdout"
        }
      ]
    },
    {
      "cell_type": "code",
      "metadata": {
        "id": "CQLljsdKD-L-",
        "colab_type": "code",
        "outputId": "3049aa9a-64e7-4959-8098-003d0d699a1b",
        "colab": {
          "base_uri": "https://localhost:8080/",
          "height": 50
        }
      },
      "source": [
        "import numpy as np\n",
        "import pandas as pd\n",
        "import matplotlib.pyplot as plt\n",
        "import seaborn as sns\n",
        "%matplotlib inline\n",
        "\n",
        "from nltk.tokenize import TweetTokenizer\n",
        "import datetime\n",
        "#import lightgbm as lgb\n",
        "from scipy import stats\n",
        "from scipy.sparse import hstack, csr_matrix\n",
        "from sklearn.model_selection import train_test_split, cross_val_score\n",
        "#from wordcloud import WordCloud\n",
        "from collections import Counter\n",
        "from nltk.corpus import stopwords\n",
        "from nltk.util import ngrams\n",
        "from sklearn.feature_extraction.text import TfidfVectorizer\n",
        "from sklearn.preprocessing import StandardScaler\n",
        "from sklearn.linear_model import LogisticRegression\n",
        "from sklearn.naive_bayes import MultinomialNB\n",
        "from sklearn.svm import LinearSVC\n",
        "from sklearn.multiclass import OneVsRestClassifier\n",
        "pd.set_option('max_colwidth',400)"
      ],
      "execution_count": 0,
      "outputs": [
        {
          "output_type": "stream",
          "text": [
            "/usr/local/lib/python3.6/dist-packages/statsmodels/tools/_testing.py:19: FutureWarning: pandas.util.testing is deprecated. Use the functions in the public API at pandas.testing instead.\n",
            "  import pandas.util.testing as tm\n"
          ],
          "name": "stderr"
        }
      ]
    },
    {
      "cell_type": "markdown",
      "metadata": {
        "id": "fk1XznzSD-MF",
        "colab_type": "text"
      },
      "source": [
        "# Reading the input files"
      ]
    },
    {
      "cell_type": "code",
      "metadata": {
        "id": "P7_Vz0T-D-MF",
        "colab_type": "code",
        "colab": {}
      },
      "source": [
        "train = pd.read_csv('/content/drive/My Drive/WebMining/train.tsv', sep=\"\\t\")"
      ],
      "execution_count": 0,
      "outputs": []
    },
    {
      "cell_type": "code",
      "metadata": {
        "id": "ld_xsI09D-MI",
        "colab_type": "code",
        "outputId": "84a2e4d3-8dfd-4cdc-b8b2-31abefa7fefe",
        "colab": {
          "base_uri": "https://localhost:8080/",
          "height": 335
        }
      },
      "source": [
        "train.head(10)"
      ],
      "execution_count": 0,
      "outputs": [
        {
          "output_type": "execute_result",
          "data": {
            "text/html": [
              "<div>\n",
              "<style scoped>\n",
              "    .dataframe tbody tr th:only-of-type {\n",
              "        vertical-align: middle;\n",
              "    }\n",
              "\n",
              "    .dataframe tbody tr th {\n",
              "        vertical-align: top;\n",
              "    }\n",
              "\n",
              "    .dataframe thead th {\n",
              "        text-align: right;\n",
              "    }\n",
              "</style>\n",
              "<table border=\"1\" class=\"dataframe\">\n",
              "  <thead>\n",
              "    <tr style=\"text-align: right;\">\n",
              "      <th></th>\n",
              "      <th>PhraseId</th>\n",
              "      <th>SentenceId</th>\n",
              "      <th>Phrase</th>\n",
              "      <th>Sentiment</th>\n",
              "    </tr>\n",
              "  </thead>\n",
              "  <tbody>\n",
              "    <tr>\n",
              "      <th>0</th>\n",
              "      <td>1</td>\n",
              "      <td>1</td>\n",
              "      <td>A series of escapades demonstrating the adage that what is good for the goose is also good for the gander , some of which occasionally amuses but none of which amounts to much of a story .</td>\n",
              "      <td>1</td>\n",
              "    </tr>\n",
              "    <tr>\n",
              "      <th>1</th>\n",
              "      <td>2</td>\n",
              "      <td>1</td>\n",
              "      <td>A series of escapades demonstrating the adage that what is good for the goose</td>\n",
              "      <td>2</td>\n",
              "    </tr>\n",
              "    <tr>\n",
              "      <th>2</th>\n",
              "      <td>3</td>\n",
              "      <td>1</td>\n",
              "      <td>A series</td>\n",
              "      <td>2</td>\n",
              "    </tr>\n",
              "    <tr>\n",
              "      <th>3</th>\n",
              "      <td>4</td>\n",
              "      <td>1</td>\n",
              "      <td>A</td>\n",
              "      <td>2</td>\n",
              "    </tr>\n",
              "    <tr>\n",
              "      <th>4</th>\n",
              "      <td>5</td>\n",
              "      <td>1</td>\n",
              "      <td>series</td>\n",
              "      <td>2</td>\n",
              "    </tr>\n",
              "    <tr>\n",
              "      <th>5</th>\n",
              "      <td>6</td>\n",
              "      <td>1</td>\n",
              "      <td>of escapades demonstrating the adage that what is good for the goose</td>\n",
              "      <td>2</td>\n",
              "    </tr>\n",
              "    <tr>\n",
              "      <th>6</th>\n",
              "      <td>7</td>\n",
              "      <td>1</td>\n",
              "      <td>of</td>\n",
              "      <td>2</td>\n",
              "    </tr>\n",
              "    <tr>\n",
              "      <th>7</th>\n",
              "      <td>8</td>\n",
              "      <td>1</td>\n",
              "      <td>escapades demonstrating the adage that what is good for the goose</td>\n",
              "      <td>2</td>\n",
              "    </tr>\n",
              "    <tr>\n",
              "      <th>8</th>\n",
              "      <td>9</td>\n",
              "      <td>1</td>\n",
              "      <td>escapades</td>\n",
              "      <td>2</td>\n",
              "    </tr>\n",
              "    <tr>\n",
              "      <th>9</th>\n",
              "      <td>10</td>\n",
              "      <td>1</td>\n",
              "      <td>demonstrating the adage that what is good for the goose</td>\n",
              "      <td>2</td>\n",
              "    </tr>\n",
              "  </tbody>\n",
              "</table>\n",
              "</div>"
            ],
            "text/plain": [
              "   PhraseId  ...  Sentiment\n",
              "0         1  ...          1\n",
              "1         2  ...          2\n",
              "2         3  ...          2\n",
              "3         4  ...          2\n",
              "4         5  ...          2\n",
              "5         6  ...          2\n",
              "6         7  ...          2\n",
              "7         8  ...          2\n",
              "8         9  ...          2\n",
              "9        10  ...          2\n",
              "\n",
              "[10 rows x 4 columns]"
            ]
          },
          "metadata": {
            "tags": []
          },
          "execution_count": 5
        }
      ]
    },
    {
      "cell_type": "code",
      "metadata": {
        "id": "BwgZsds6D-MT",
        "colab_type": "code",
        "outputId": "d4cab1da-3032-4e3a-f0fd-a5e104721aa9",
        "colab": {
          "base_uri": "https://localhost:8080/",
          "height": 115
        }
      },
      "source": [
        "train['Sentiment'].value_counts()"
      ],
      "execution_count": 0,
      "outputs": [
        {
          "output_type": "execute_result",
          "data": {
            "text/plain": [
              "2    79582\n",
              "3    32927\n",
              "1    27273\n",
              "4     9206\n",
              "0     7072\n",
              "Name: Sentiment, dtype: int64"
            ]
          },
          "metadata": {
            "tags": []
          },
          "execution_count": 7
        }
      ]
    },
    {
      "cell_type": "markdown",
      "metadata": {
        "id": "VPt_jwGHD-MX",
        "colab_type": "text"
      },
      "source": [
        "# Cleaning the data"
      ]
    },
    {
      "cell_type": "code",
      "metadata": {
        "id": "6gKVOol9D-MX",
        "colab_type": "code",
        "colab": {}
      },
      "source": [
        "from nltk.tokenize import word_tokenize\n",
        "from nltk import FreqDist\n",
        "from nltk.stem import SnowballStemmer,WordNetLemmatizer\n",
        "stemmer=SnowballStemmer('english')\n",
        "lemma=WordNetLemmatizer()\n",
        "from string import punctuation\n",
        "import re"
      ],
      "execution_count": 0,
      "outputs": []
    },
    {
      "cell_type": "code",
      "metadata": {
        "id": "W4nQ13v4D-Mc",
        "colab_type": "code",
        "colab": {}
      },
      "source": [
        "def clean_review(review_col):\n",
        "    review_corpus=[]\n",
        "    for i in range(0,len(review_col)):\n",
        "        review=str(review_col[i])\n",
        "        review=re.sub('[^a-zA-Z]',' ',review)\n",
        "        \n",
        "        review=[lemma.lemmatize(w) for w in word_tokenize(str(review).lower())]\n",
        "        review=' '.join(review)\n",
        "        review_corpus.append(review)\n",
        "    return review_corpus"
      ],
      "execution_count": 0,
      "outputs": []
    },
    {
      "cell_type": "code",
      "metadata": {
        "id": "O5VT3cgIEmwu",
        "colab_type": "code",
        "outputId": "ac7cad88-0cd1-408a-9b16-5768dc138fae",
        "colab": {
          "base_uri": "https://localhost:8080/",
          "height": 98
        }
      },
      "source": [
        "import nltk\n",
        "nltk.download('punkt')\n",
        "nltk.download('wordnet')"
      ],
      "execution_count": 0,
      "outputs": [
        {
          "output_type": "stream",
          "text": [
            "[nltk_data] Downloading package punkt to /root/nltk_data...\n",
            "[nltk_data]   Unzipping tokenizers/punkt.zip.\n",
            "[nltk_data] Downloading package wordnet to /root/nltk_data...\n",
            "[nltk_data]   Unzipping corpora/wordnet.zip.\n"
          ],
          "name": "stdout"
        },
        {
          "output_type": "execute_result",
          "data": {
            "text/plain": [
              "True"
            ]
          },
          "metadata": {
            "tags": []
          },
          "execution_count": 10
        }
      ]
    },
    {
      "cell_type": "code",
      "metadata": {
        "id": "hstuYYp0D-Mf",
        "colab_type": "code",
        "colab": {}
      },
      "source": [
        "train['clean_review']=clean_review(train.Phrase.values)"
      ],
      "execution_count": 0,
      "outputs": []
    },
    {
      "cell_type": "code",
      "metadata": {
        "id": "h1NRZDD8D-Mh",
        "colab_type": "code",
        "outputId": "84e4eaf0-0665-4b04-eeeb-81e846cd7592",
        "colab": {
          "base_uri": "https://localhost:8080/",
          "height": 207
        }
      },
      "source": [
        "train.head()"
      ],
      "execution_count": 0,
      "outputs": [
        {
          "output_type": "execute_result",
          "data": {
            "text/html": [
              "<div>\n",
              "<style scoped>\n",
              "    .dataframe tbody tr th:only-of-type {\n",
              "        vertical-align: middle;\n",
              "    }\n",
              "\n",
              "    .dataframe tbody tr th {\n",
              "        vertical-align: top;\n",
              "    }\n",
              "\n",
              "    .dataframe thead th {\n",
              "        text-align: right;\n",
              "    }\n",
              "</style>\n",
              "<table border=\"1\" class=\"dataframe\">\n",
              "  <thead>\n",
              "    <tr style=\"text-align: right;\">\n",
              "      <th></th>\n",
              "      <th>PhraseId</th>\n",
              "      <th>SentenceId</th>\n",
              "      <th>Phrase</th>\n",
              "      <th>Sentiment</th>\n",
              "      <th>clean_review</th>\n",
              "    </tr>\n",
              "  </thead>\n",
              "  <tbody>\n",
              "    <tr>\n",
              "      <th>0</th>\n",
              "      <td>1</td>\n",
              "      <td>1</td>\n",
              "      <td>A series of escapades demonstrating the adage that what is good for the goose is also good for the gander , some of which occasionally amuses but none of which amounts to much of a story .</td>\n",
              "      <td>1</td>\n",
              "      <td>a series of escapade demonstrating the adage that what is good for the goose is also good for the gander some of which occasionally amuses but none of which amount to much of a story</td>\n",
              "    </tr>\n",
              "    <tr>\n",
              "      <th>1</th>\n",
              "      <td>2</td>\n",
              "      <td>1</td>\n",
              "      <td>A series of escapades demonstrating the adage that what is good for the goose</td>\n",
              "      <td>2</td>\n",
              "      <td>a series of escapade demonstrating the adage that what is good for the goose</td>\n",
              "    </tr>\n",
              "    <tr>\n",
              "      <th>2</th>\n",
              "      <td>3</td>\n",
              "      <td>1</td>\n",
              "      <td>A series</td>\n",
              "      <td>2</td>\n",
              "      <td>a series</td>\n",
              "    </tr>\n",
              "    <tr>\n",
              "      <th>3</th>\n",
              "      <td>4</td>\n",
              "      <td>1</td>\n",
              "      <td>A</td>\n",
              "      <td>2</td>\n",
              "      <td>a</td>\n",
              "    </tr>\n",
              "    <tr>\n",
              "      <th>4</th>\n",
              "      <td>5</td>\n",
              "      <td>1</td>\n",
              "      <td>series</td>\n",
              "      <td>2</td>\n",
              "      <td>series</td>\n",
              "    </tr>\n",
              "  </tbody>\n",
              "</table>\n",
              "</div>"
            ],
            "text/plain": [
              "   PhraseId  ...                                                                                                                                                                            clean_review\n",
              "0         1  ...  a series of escapade demonstrating the adage that what is good for the goose is also good for the gander some of which occasionally amuses but none of which amount to much of a story\n",
              "1         2  ...                                                                                                            a series of escapade demonstrating the adage that what is good for the goose\n",
              "2         3  ...                                                                                                                                                                                a series\n",
              "3         4  ...                                                                                                                                                                                       a\n",
              "4         5  ...                                                                                                                                                                                  series\n",
              "\n",
              "[5 rows x 5 columns]"
            ]
          },
          "metadata": {
            "tags": []
          },
          "execution_count": 12
        }
      ]
    },
    {
      "cell_type": "markdown",
      "metadata": {
        "id": "K4FvkShAD-Ml",
        "colab_type": "text"
      },
      "source": [
        "# Balancing the data by Resampling"
      ]
    },
    {
      "cell_type": "code",
      "metadata": {
        "id": "OxFKbE4ND-Mm",
        "colab_type": "code",
        "colab": {}
      },
      "source": [
        "from sklearn.utils import resample\n",
        "train_2 = train[train['Sentiment']==2]\n",
        "train_1 = train[train['Sentiment']==1]\n",
        "train_3 = train[train['Sentiment']==3]\n",
        "train_4 = train[train['Sentiment']==4]\n",
        "train_5 = train[train['Sentiment']==0]\n",
        "train_2_sample = resample(train_2,replace=True,n_samples=75000,random_state=123)\n",
        "train_1_sample = resample(train_1,replace=True,n_samples=75000,random_state=123)\n",
        "train_3_sample = resample(train_3,replace=True,n_samples=75000,random_state=123)\n",
        "train_4_sample = resample(train_4,replace=True,n_samples=75000,random_state=123)\n",
        "train_5_sample = resample(train_5,replace=True,n_samples=75000,random_state=123)\n",
        "\n",
        "df_upsampled = pd.concat([train_2, train_1_sample,train_3_sample,train_4_sample,train_5_sample])"
      ],
      "execution_count": 0,
      "outputs": []
    },
    {
      "cell_type": "code",
      "metadata": {
        "scrolled": false,
        "id": "U8VH5PdwD-Mr",
        "colab_type": "code",
        "outputId": "30caec34-285f-42d9-f88e-bebadec95ad0",
        "colab": {
          "base_uri": "https://localhost:8080/",
          "height": 191
        }
      },
      "source": [
        "df_upsampled.head()"
      ],
      "execution_count": 0,
      "outputs": [
        {
          "output_type": "execute_result",
          "data": {
            "text/html": [
              "<div>\n",
              "<style scoped>\n",
              "    .dataframe tbody tr th:only-of-type {\n",
              "        vertical-align: middle;\n",
              "    }\n",
              "\n",
              "    .dataframe tbody tr th {\n",
              "        vertical-align: top;\n",
              "    }\n",
              "\n",
              "    .dataframe thead th {\n",
              "        text-align: right;\n",
              "    }\n",
              "</style>\n",
              "<table border=\"1\" class=\"dataframe\">\n",
              "  <thead>\n",
              "    <tr style=\"text-align: right;\">\n",
              "      <th></th>\n",
              "      <th>PhraseId</th>\n",
              "      <th>SentenceId</th>\n",
              "      <th>Phrase</th>\n",
              "      <th>Sentiment</th>\n",
              "      <th>clean_review</th>\n",
              "    </tr>\n",
              "  </thead>\n",
              "  <tbody>\n",
              "    <tr>\n",
              "      <th>1</th>\n",
              "      <td>2</td>\n",
              "      <td>1</td>\n",
              "      <td>A series of escapades demonstrating the adage that what is good for the goose</td>\n",
              "      <td>2</td>\n",
              "      <td>a series of escapade demonstrating the adage that what is good for the goose</td>\n",
              "    </tr>\n",
              "    <tr>\n",
              "      <th>2</th>\n",
              "      <td>3</td>\n",
              "      <td>1</td>\n",
              "      <td>A series</td>\n",
              "      <td>2</td>\n",
              "      <td>a series</td>\n",
              "    </tr>\n",
              "    <tr>\n",
              "      <th>3</th>\n",
              "      <td>4</td>\n",
              "      <td>1</td>\n",
              "      <td>A</td>\n",
              "      <td>2</td>\n",
              "      <td>a</td>\n",
              "    </tr>\n",
              "    <tr>\n",
              "      <th>4</th>\n",
              "      <td>5</td>\n",
              "      <td>1</td>\n",
              "      <td>series</td>\n",
              "      <td>2</td>\n",
              "      <td>series</td>\n",
              "    </tr>\n",
              "    <tr>\n",
              "      <th>5</th>\n",
              "      <td>6</td>\n",
              "      <td>1</td>\n",
              "      <td>of escapades demonstrating the adage that what is good for the goose</td>\n",
              "      <td>2</td>\n",
              "      <td>of escapade demonstrating the adage that what is good for the goose</td>\n",
              "    </tr>\n",
              "  </tbody>\n",
              "</table>\n",
              "</div>"
            ],
            "text/plain": [
              "   PhraseId  ...                                                                  clean_review\n",
              "1         2  ...  a series of escapade demonstrating the adage that what is good for the goose\n",
              "2         3  ...                                                                      a series\n",
              "3         4  ...                                                                             a\n",
              "4         5  ...                                                                        series\n",
              "5         6  ...           of escapade demonstrating the adage that what is good for the goose\n",
              "\n",
              "[5 rows x 5 columns]"
            ]
          },
          "metadata": {
            "tags": []
          },
          "execution_count": 14
        }
      ]
    },
    {
      "cell_type": "code",
      "metadata": {
        "id": "bxNFXTxjq5gE",
        "colab_type": "code",
        "outputId": "9e719553-859d-490b-9d90-8c41ff43c715",
        "colab": {
          "base_uri": "https://localhost:8080/",
          "height": 33
        }
      },
      "source": [
        "df_upsampled[df_upsampled['Sentiment']==1].shape"
      ],
      "execution_count": 0,
      "outputs": [
        {
          "output_type": "execute_result",
          "data": {
            "text/plain": [
              "(75000, 5)"
            ]
          },
          "metadata": {
            "tags": []
          },
          "execution_count": 15
        }
      ]
    },
    {
      "cell_type": "markdown",
      "metadata": {
        "id": "Zqvsv1Q3D-Mx",
        "colab_type": "text"
      },
      "source": [
        "# Data Processing for ML"
      ]
    },
    {
      "cell_type": "code",
      "metadata": {
        "id": "LzeNBx2tD-Mx",
        "colab_type": "code",
        "colab": {}
      },
      "source": [
        "text = ' '.join(df_upsampled.loc[df_upsampled.Sentiment == 4, 'Phrase'].values)\n",
        "text_trigrams = [i for i in ngrams(text.split(), 3)]"
      ],
      "execution_count": 0,
      "outputs": []
    },
    {
      "cell_type": "code",
      "metadata": {
        "id": "uBY_KT7oD-Mz",
        "colab_type": "code",
        "outputId": "50a92080-f5a0-4ce0-b4b2-f06193672f13",
        "colab": {
          "base_uri": "https://localhost:8080/",
          "height": 505
        }
      },
      "source": [
        "Counter(text_trigrams).most_common(30)"
      ],
      "execution_count": 0,
      "outputs": [
        {
          "output_type": "execute_result",
          "data": {
            "text/plain": [
              "[(('one', 'of', 'the'), 1644),\n",
              " (('of', 'the', 'year'), 832),\n",
              " (('of', 'the', 'best'), 677),\n",
              " (('of', 'the', 'most'), 612),\n",
              " (('is', 'one', 'of'), 407),\n",
              " (('One', 'of', 'the'), 370),\n",
              " ((',', 'and', 'the'), 333),\n",
              " (('the', 'year', \"'s\"), 326),\n",
              " (('It', \"'s\", 'a'), 323),\n",
              " (('the', 'edge', 'of'), 300),\n",
              " (('it', \"'s\", 'a'), 299),\n",
              " (('a', 'movie', 'that'), 297),\n",
              " (('of', 'your', 'seat'), 273),\n",
              " (('the', 'film', 'is'), 267),\n",
              " (('the', 'kind', 'of'), 267),\n",
              " (('.', 'is', 'a'), 264),\n",
              " (('the', 'film', \"'s\"), 264),\n",
              " (('as', 'one', 'of'), 254),\n",
              " ((',', 'the', 'film'), 253),\n",
              " (('edge', 'of', 'your'), 249),\n",
              " ((',', 'this', 'is'), 236),\n",
              " (('as', 'well', 'as'), 231),\n",
              " ((',', 'it', \"'s\"), 226),\n",
              " (('film', 'that', 'is'), 223),\n",
              " (('.', 'It', \"'s\"), 218),\n",
              " (('a', 'film', 'that'), 211),\n",
              " ((',', 'funny', ','), 208),\n",
              " (('some', 'of', 'the'), 206),\n",
              " (('year', \"'s\", 'best'), 188),\n",
              " (('a', 'solid', 'cast'), 178)]"
            ]
          },
          "metadata": {
            "tags": []
          },
          "execution_count": 17
        }
      ]
    },
    {
      "cell_type": "code",
      "metadata": {
        "id": "mdG6mcawD-M2",
        "colab_type": "code",
        "colab": {}
      },
      "source": [
        "tokenizer = TweetTokenizer()"
      ],
      "execution_count": 0,
      "outputs": []
    },
    {
      "cell_type": "code",
      "metadata": {
        "id": "r5LPMKetD-M4",
        "colab_type": "code",
        "outputId": "1b74062c-3024-4d77-97c6-f54b992e5e4d",
        "colab": {
          "base_uri": "https://localhost:8080/",
          "height": 50
        }
      },
      "source": [
        "vectorizer = TfidfVectorizer(ngram_range=(1, 2), tokenizer=tokenizer.tokenize)\n",
        "full_text = list(df_upsampled['clean_review'].values)\n",
        "vectorizer.fit(full_text)\n",
        "df_upsampled_vectorized = vectorizer.transform(df_upsampled['clean_review'])"
      ],
      "execution_count": 0,
      "outputs": [
        {
          "output_type": "stream",
          "text": [
            "/usr/local/lib/python3.6/dist-packages/sklearn/feature_extraction/text.py:507: UserWarning: The parameter 'token_pattern' will not be used since 'tokenizer' is not None'\n",
            "  warnings.warn(\"The parameter 'token_pattern' will not be used\"\n"
          ],
          "name": "stderr"
        }
      ]
    },
    {
      "cell_type": "code",
      "metadata": {
        "id": "SoVVmvh0D-M8",
        "colab_type": "code",
        "colab": {}
      },
      "source": [
        "y = df_upsampled['Sentiment']"
      ],
      "execution_count": 0,
      "outputs": []
    },
    {
      "cell_type": "markdown",
      "metadata": {
        "id": "6fxR0c1GD-NA",
        "colab_type": "text"
      },
      "source": [
        "# Applying ML algorithm"
      ]
    },
    {
      "cell_type": "code",
      "metadata": {
        "id": "FUnpaZx7D-NR",
        "colab_type": "code",
        "outputId": "f8fdec33-90d5-415a-a12c-f9a4f3be35af",
        "colab": {
          "base_uri": "https://localhost:8080/",
          "height": 147
        }
      },
      "source": [
        "from keras.utils import to_categorical\n",
        "X = df_upsampled['clean_review']\n",
        "Y = to_categorical(df_upsampled['Sentiment'].values)\n",
        "print(Y)"
      ],
      "execution_count": 0,
      "outputs": [
        {
          "output_type": "stream",
          "text": [
            "Using TensorFlow backend.\n"
          ],
          "name": "stderr"
        },
        {
          "output_type": "stream",
          "text": [
            "[[0. 0. 1. 0. 0.]\n",
            " [0. 0. 1. 0. 0.]\n",
            " [0. 0. 1. 0. 0.]\n",
            " ...\n",
            " [1. 0. 0. 0. 0.]\n",
            " [1. 0. 0. 0. 0.]\n",
            " [1. 0. 0. 0. 0.]]\n"
          ],
          "name": "stdout"
        }
      ]
    },
    {
      "cell_type": "markdown",
      "metadata": {
        "id": "5S78Tm-oD-NU",
        "colab_type": "text"
      },
      "source": [
        "# splitting training set into training and validation set"
      ]
    },
    {
      "cell_type": "code",
      "metadata": {
        "id": "UCQZsn7rD-NU",
        "colab_type": "code",
        "colab": {}
      },
      "source": [
        "\n",
        "from sklearn.model_selection import train_test_split\n",
        "X_train, X_val, Y_train, Y_val = train_test_split(X, Y, test_size=0.25, random_state=123)"
      ],
      "execution_count": 0,
      "outputs": []
    },
    {
      "cell_type": "code",
      "metadata": {
        "id": "dbtDBibQD-NW",
        "colab_type": "code",
        "outputId": "df43712d-5d38-4c64-db56-47e02f5703e9",
        "colab": {
          "base_uri": "https://localhost:8080/",
          "height": 50
        }
      },
      "source": [
        "print(X_train.shape,Y_train.shape)\n",
        "print(X_val.shape,Y_val.shape)"
      ],
      "execution_count": 0,
      "outputs": [
        {
          "output_type": "stream",
          "text": [
            "(284686,) (284686, 5)\n",
            "(94896,) (94896, 5)\n"
          ],
          "name": "stdout"
        }
      ]
    },
    {
      "cell_type": "code",
      "metadata": {
        "id": "mA2VOMyiD-NZ",
        "colab_type": "code",
        "colab": {}
      },
      "source": [
        "from keras.preprocessing.text import Tokenizer\n",
        "from keras.preprocessing.sequence import pad_sequences\n",
        "from keras.utils import to_categorical"
      ],
      "execution_count": 0,
      "outputs": []
    },
    {
      "cell_type": "markdown",
      "metadata": {
        "id": "hGay2jUhD-Nb",
        "colab_type": "text"
      },
      "source": [
        "# Total number of words/features"
      ]
    },
    {
      "cell_type": "code",
      "metadata": {
        "id": "JFjlrSpqD-Nc",
        "colab_type": "code",
        "outputId": "2ef187b1-5ef1-435c-94eb-61027d2ad66d",
        "colab": {
          "base_uri": "https://localhost:8080/",
          "height": 33
        }
      },
      "source": [
        "all_words=' '.join(X_train)\n",
        "all_words=word_tokenize(all_words)\n",
        "#print(all_words)\n",
        "dist=FreqDist(all_words)\n",
        "\n",
        "num_unique_word=len(dist)\n",
        "num_unique_word\n",
        "#X_train.head()"
      ],
      "execution_count": 0,
      "outputs": [
        {
          "output_type": "execute_result",
          "data": {
            "text/plain": [
              "13728"
            ]
          },
          "metadata": {
            "tags": []
          },
          "execution_count": 25
        }
      ]
    },
    {
      "cell_type": "markdown",
      "metadata": {
        "id": "XTOZZsjoD-Nf",
        "colab_type": "text"
      },
      "source": [
        "# Number of words for each phrase/text"
      ]
    },
    {
      "cell_type": "code",
      "metadata": {
        "id": "Hay0ymkQD-Ng",
        "colab_type": "code",
        "outputId": "38408390-ab3f-4e58-f4a6-b1d01be85bf3",
        "colab": {
          "base_uri": "https://localhost:8080/",
          "height": 33
        }
      },
      "source": [
        "r_len=[]\n",
        "for text in X_train:\n",
        "    word=word_tokenize(text)\n",
        "  #  print(text)\n",
        "    l=len(word)\n",
        "    r_len.append(l)\n",
        "    \n",
        "MAX_REVIEW_LEN=np.max(r_len)\n",
        "MAX_REVIEW_LEN"
      ],
      "execution_count": 0,
      "outputs": [
        {
          "output_type": "execute_result",
          "data": {
            "text/plain": [
              "48"
            ]
          },
          "metadata": {
            "tags": []
          },
          "execution_count": 26
        }
      ]
    },
    {
      "cell_type": "code",
      "metadata": {
        "id": "cCbscwSlD-Ni",
        "colab_type": "code",
        "colab": {}
      },
      "source": [
        "max_features = num_unique_word\n",
        "max_words = MAX_REVIEW_LEN\n",
        "batch_size = 128\n",
        "epochs = 3\n",
        "num_classes=5"
      ],
      "execution_count": 0,
      "outputs": []
    },
    {
      "cell_type": "code",
      "metadata": {
        "id": "BSj-b93WD-Nk",
        "colab_type": "code",
        "colab": {}
      },
      "source": [
        "from tensorflow.python.keras.models import Sequential\n",
        "from tensorflow.python.keras.layers import Dense, GRU, Embedding\n",
        "from tensorflow.python.keras.optimizers import Adam\n",
        "from tensorflow.python.keras.preprocessing.text import Tokenizer\n",
        "from tensorflow.python.keras.preprocessing.sequence import pad_sequences"
      ],
      "execution_count": 0,
      "outputs": []
    },
    {
      "cell_type": "markdown",
      "metadata": {
        "id": "uKp1b30tD-Nm",
        "colab_type": "text"
      },
      "source": [
        "# Tokenizing the words"
      ]
    },
    {
      "cell_type": "code",
      "metadata": {
        "id": "CEZQJfM2D-Nn",
        "colab_type": "code",
        "colab": {}
      },
      "source": [
        "tokenizer = Tokenizer(num_words=max_features)\n",
        "tokenizer.fit_on_texts(X_train)\n",
        "X_train = tokenizer.texts_to_sequences(X_train)\n",
        "X_val = tokenizer.texts_to_sequences(X_val)"
      ],
      "execution_count": 0,
      "outputs": []
    },
    {
      "cell_type": "code",
      "metadata": {
        "id": "ozV1Znk9D-Np",
        "colab_type": "code",
        "colab": {}
      },
      "source": [
        "from keras.preprocessing import sequence,text\n",
        "from keras.preprocessing.text import Tokenizer\n",
        "from keras.models import Sequential\n",
        "from keras.preprocessing.sequence import pad_sequences"
      ],
      "execution_count": 0,
      "outputs": []
    },
    {
      "cell_type": "markdown",
      "metadata": {
        "id": "ex7QS77eD-Nu",
        "colab_type": "text"
      },
      "source": [
        "# Sequence Padding"
      ]
    },
    {
      "cell_type": "code",
      "metadata": {
        "id": "Bn8bjvpZD-Nu",
        "colab_type": "code",
        "colab": {}
      },
      "source": [
        "from keras.preprocessing import sequence,text\n",
        "from keras.preprocessing.text import Tokenizer\n",
        "from keras.models import Sequential\n",
        "from keras.preprocessing.sequence import pad_sequences\n",
        "X_train = sequence.pad_sequences(X_train, maxlen=max_words)\n",
        "X_val = sequence.pad_sequences(X_val, maxlen=max_words)\n",
        "#print(X_train.shape,X_val.shape)"
      ],
      "execution_count": 0,
      "outputs": []
    },
    {
      "cell_type": "code",
      "metadata": {
        "id": "dcxNvPG1D-Nz",
        "colab_type": "code",
        "colab": {}
      },
      "source": [
        "from keras.preprocessing import sequence,text\n",
        "from keras.preprocessing.text import Tokenizer\n",
        "from keras.models import Sequential\n",
        "from keras.layers import Dense,Dropout,Embedding,LSTM,Conv1D,GlobalMaxPooling1D,Flatten,MaxPooling1D,GRU,SpatialDropout1D,Bidirectional\n",
        "from keras.callbacks import EarlyStopping\n",
        "from keras.utils import to_categorical\n",
        "from keras.losses import categorical_crossentropy\n",
        "from keras.optimizers import Adam\n",
        "from sklearn.model_selection import train_test_split\n",
        "from sklearn.metrics import accuracy_score,confusion_matrix,classification_report,f1_score\n",
        "import matplotlib.pyplot as plt"
      ],
      "execution_count": 0,
      "outputs": []
    },
    {
      "cell_type": "markdown",
      "metadata": {
        "id": "xKVO8VxID-Oi",
        "colab_type": "text"
      },
      "source": [
        "# CNN+BiLSTM\n"
      ]
    },
    {
      "cell_type": "code",
      "metadata": {
        "id": "m_O96QkvD-Oj",
        "colab_type": "code",
        "outputId": "19d0571d-bddc-4c39-cf23-b572ed404905",
        "colab": {
          "base_uri": "https://localhost:8080/",
          "height": 472
        }
      },
      "source": [
        "model1= Sequential()\n",
        "model1.add(Embedding(max_features,100,input_length=max_words))\n",
        "model1.add(Conv1D(64,kernel_size=3,padding='same',activation='relu'))\n",
        "model1.add(MaxPooling1D(pool_size=2))\n",
        "model1.add(Dropout(0.25))\n",
        "model1.add(Bidirectional(LSTM(128,return_sequences=True)))\n",
        "model1.add(Dropout(0.3))\n",
        "model1.add(Flatten())\n",
        "model1.add(Dense(128,activation='relu'))\n",
        "model1.add(Dropout(0.5))\n",
        "model1.add(Dense(5,activation='softmax'))\n",
        "model1.compile(loss='categorical_crossentropy',optimizer=Adam(lr=0.001),metrics=['accuracy'])\n",
        "model1.summary()"
      ],
      "execution_count": 0,
      "outputs": [
        {
          "output_type": "stream",
          "text": [
            "Model: \"sequential_1\"\n",
            "_________________________________________________________________\n",
            "Layer (type)                 Output Shape              Param #   \n",
            "=================================================================\n",
            "embedding_1 (Embedding)      (None, 48, 100)           1372800   \n",
            "_________________________________________________________________\n",
            "conv1d_1 (Conv1D)            (None, 48, 64)            19264     \n",
            "_________________________________________________________________\n",
            "max_pooling1d_1 (MaxPooling1 (None, 24, 64)            0         \n",
            "_________________________________________________________________\n",
            "dropout_1 (Dropout)          (None, 24, 64)            0         \n",
            "_________________________________________________________________\n",
            "bidirectional_1 (Bidirection (None, 24, 256)           197632    \n",
            "_________________________________________________________________\n",
            "dropout_2 (Dropout)          (None, 24, 256)           0         \n",
            "_________________________________________________________________\n",
            "flatten_1 (Flatten)          (None, 6144)              0         \n",
            "_________________________________________________________________\n",
            "dense_1 (Dense)              (None, 128)               786560    \n",
            "_________________________________________________________________\n",
            "dropout_3 (Dropout)          (None, 128)               0         \n",
            "_________________________________________________________________\n",
            "dense_2 (Dense)              (None, 5)                 645       \n",
            "=================================================================\n",
            "Total params: 2,376,901\n",
            "Trainable params: 2,376,901\n",
            "Non-trainable params: 0\n",
            "_________________________________________________________________\n"
          ],
          "name": "stdout"
        }
      ]
    },
    {
      "cell_type": "code",
      "metadata": {
        "id": "CZrE7zi8D-Ol",
        "colab_type": "code",
        "outputId": "52e979a4-d129-4ec0-ca3d-1037d6c628a7",
        "colab": {
          "base_uri": "https://localhost:8080/",
          "height": 407
        }
      },
      "source": [
        "%%time\n",
        "model1.fit(X_train, Y_train, validation_data=(X_val, Y_val),epochs=50, batch_size=batch_size, verbose=1)"
      ],
      "execution_count": 0,
      "outputs": [
        {
          "output_type": "stream",
          "text": [
            "Train on 284686 samples, validate on 94896 samples\n",
            "Epoch 1/10\n",
            "284686/284686 [==============================] - 626s 2ms/step - loss: 0.5086 - accuracy: 0.8038 - val_loss: 0.5246 - val_accuracy: 0.8016\n",
            "Epoch 2/10\n",
            "284686/284686 [==============================] - 617s 2ms/step - loss: 0.4717 - accuracy: 0.8198 - val_loss: 0.5025 - val_accuracy: 0.8121\n",
            "Epoch 3/10\n",
            "284686/284686 [==============================] - 620s 2ms/step - loss: 0.4433 - accuracy: 0.8315 - val_loss: 0.4947 - val_accuracy: 0.8178\n",
            "Epoch 4/10\n",
            "284686/284686 [==============================] - 589s 2ms/step - loss: 0.4194 - accuracy: 0.8417 - val_loss: 0.4884 - val_accuracy: 0.8254\n",
            "Epoch 5/10\n",
            "284686/284686 [==============================] - 586s 2ms/step - loss: 0.3977 - accuracy: 0.8492 - val_loss: 0.4788 - val_accuracy: 0.8312\n",
            "Epoch 6/10\n",
            "284686/284686 [==============================] - 581s 2ms/step - loss: 0.3815 - accuracy: 0.8553 - val_loss: 0.4812 - val_accuracy: 0.8323\n",
            "Epoch 7/10\n",
            "284686/284686 [==============================] - 587s 2ms/step - loss: 0.3672 - accuracy: 0.8616 - val_loss: 0.4707 - val_accuracy: 0.8364\n",
            "Epoch 8/10\n",
            "284686/284686 [==============================] - 588s 2ms/step - loss: 0.3540 - accuracy: 0.8664 - val_loss: 0.4867 - val_accuracy: 0.8386\n",
            "Epoch 9/10\n",
            "284686/284686 [==============================] - 584s 2ms/step - loss: 0.3421 - accuracy: 0.8709 - val_loss: 0.4669 - val_accuracy: 0.8451\n",
            "Epoch 10/10\n",
            "284686/284686 [==============================] - 586s 2ms/step - loss: 0.3310 - accuracy: 0.8753 - val_loss: 0.4738 - val_accuracy: 0.8478\n",
            "CPU times: user 2h 55min 47s, sys: 9min 59s, total: 3h 5min 46s\n",
            "Wall time: 1h 39min 24s\n"
          ],
          "name": "stdout"
        },
        {
          "output_type": "execute_result",
          "data": {
            "text/plain": [
              "<keras.callbacks.callbacks.History at 0x7f176065cc88>"
            ]
          },
          "metadata": {
            "tags": []
          },
          "execution_count": 70
        }
      ]
    },
    {
      "cell_type": "code",
      "metadata": {
        "id": "JZnrSdGZsfrD",
        "colab_type": "code",
        "colab": {}
      },
      "source": [
        "y_pred=model1.predict_classes(X_val)"
      ],
      "execution_count": 0,
      "outputs": []
    },
    {
      "cell_type": "code",
      "metadata": {
        "id": "zO6oJEVz1Djb",
        "colab_type": "code",
        "outputId": "7faed3b7-2a1e-477c-fd6a-278f8f82dcd9",
        "colab": {
          "base_uri": "https://localhost:8080/",
          "height": 33
        }
      },
      "source": [
        "Y_val_rev = [np.argmax(y, axis=None, out=None) for y in Y_val]\n",
        "Y_val_rev[:10]"
      ],
      "execution_count": 0,
      "outputs": [
        {
          "output_type": "execute_result",
          "data": {
            "text/plain": [
              "[1, 3, 2, 1, 4, 1, 4, 1, 1, 0]"
            ]
          },
          "metadata": {
            "tags": []
          },
          "execution_count": 97
        }
      ]
    },
    {
      "cell_type": "code",
      "metadata": {
        "id": "fEViBPg9sj69",
        "colab_type": "code",
        "outputId": "5ad13f6c-f699-4e5b-83d3-017954b7af1f",
        "colab": {
          "base_uri": "https://localhost:8080/",
          "height": 33
        }
      },
      "source": [
        "accuracy_score(y_pred,Y_val_rev)"
      ],
      "execution_count": 0,
      "outputs": [
        {
          "output_type": "execute_result",
          "data": {
            "text/plain": [
              "0.8478123419322205"
            ]
          },
          "metadata": {
            "tags": []
          },
          "execution_count": 98
        }
      ]
    },
    {
      "cell_type": "markdown",
      "metadata": {
        "id": "7V5a3nNNqsTw",
        "colab_type": "text"
      },
      "source": [
        "# CNN + LSTM"
      ]
    },
    {
      "cell_type": "code",
      "metadata": {
        "id": "43e-U9FBqwsd",
        "colab_type": "code",
        "outputId": "ccd9e2eb-b4e7-4bec-b76d-e2e3620e548a",
        "colab": {
          "base_uri": "https://localhost:8080/",
          "height": 472
        }
      },
      "source": [
        "model2= Sequential()\n",
        "model2.add(Embedding(max_features,100,input_length=max_words))\n",
        "model2.add(Conv1D(64,kernel_size=3,padding='same',activation='relu'))\n",
        "model2.add(MaxPooling1D(pool_size=2))\n",
        "model2.add(Dropout(0.25))\n",
        "model2.add(LSTM(128,return_sequences=True))\n",
        "model2.add(Dropout(0.3))\n",
        "model2.add(Flatten())\n",
        "model2.add(Dense(128,activation='relu'))\n",
        "model2.add(Dropout(0.5))\n",
        "model2.add(Dense(5,activation='softmax'))\n",
        "model2.compile(loss='categorical_crossentropy',optimizer=Adam(lr=0.001),metrics=['accuracy'])\n",
        "model2.summary()"
      ],
      "execution_count": 0,
      "outputs": [
        {
          "output_type": "stream",
          "text": [
            "Model: \"sequential_3\"\n",
            "_________________________________________________________________\n",
            "Layer (type)                 Output Shape              Param #   \n",
            "=================================================================\n",
            "embedding_3 (Embedding)      (None, 48, 100)           1372800   \n",
            "_________________________________________________________________\n",
            "conv1d_3 (Conv1D)            (None, 48, 64)            19264     \n",
            "_________________________________________________________________\n",
            "max_pooling1d_3 (MaxPooling1 (None, 24, 64)            0         \n",
            "_________________________________________________________________\n",
            "dropout_7 (Dropout)          (None, 24, 64)            0         \n",
            "_________________________________________________________________\n",
            "lstm_3 (LSTM)                (None, 24, 128)           98816     \n",
            "_________________________________________________________________\n",
            "dropout_8 (Dropout)          (None, 24, 128)           0         \n",
            "_________________________________________________________________\n",
            "flatten_3 (Flatten)          (None, 3072)              0         \n",
            "_________________________________________________________________\n",
            "dense_5 (Dense)              (None, 128)               393344    \n",
            "_________________________________________________________________\n",
            "dropout_9 (Dropout)          (None, 128)               0         \n",
            "_________________________________________________________________\n",
            "dense_6 (Dense)              (None, 5)                 645       \n",
            "=================================================================\n",
            "Total params: 1,884,869\n",
            "Trainable params: 1,884,869\n",
            "Non-trainable params: 0\n",
            "_________________________________________________________________\n"
          ],
          "name": "stdout"
        }
      ]
    },
    {
      "cell_type": "code",
      "metadata": {
        "id": "v1PnushPrHPG",
        "colab_type": "code",
        "outputId": "96dbb2d0-41e1-449b-b0e4-377ee83ce837",
        "colab": {
          "base_uri": "https://localhost:8080/",
          "height": 1000
        }
      },
      "source": [
        "%%time\n",
        "model2.fit(X_train, Y_train, validation_data=(X_val, Y_val),epochs=30, batch_size=batch_size, verbose=1)"
      ],
      "execution_count": 0,
      "outputs": [
        {
          "output_type": "stream",
          "text": [
            "/usr/local/lib/python3.6/dist-packages/tensorflow/python/framework/indexed_slices.py:434: UserWarning: Converting sparse IndexedSlices to a dense Tensor of unknown shape. This may consume a large amount of memory.\n",
            "  \"Converting sparse IndexedSlices to a dense Tensor of unknown shape. \"\n"
          ],
          "name": "stderr"
        },
        {
          "output_type": "stream",
          "text": [
            "Train on 284686 samples, validate on 94896 samples\n",
            "Epoch 1/30\n",
            "284686/284686 [==============================] - 360s 1ms/step - loss: 0.9226 - accuracy: 0.6187 - val_loss: 0.7104 - val_accuracy: 0.7144\n",
            "Epoch 2/30\n",
            "284686/284686 [==============================] - 366s 1ms/step - loss: 0.6562 - accuracy: 0.7411 - val_loss: 0.6209 - val_accuracy: 0.7545\n",
            "Epoch 3/30\n",
            "284686/284686 [==============================] - 361s 1ms/step - loss: 0.5684 - accuracy: 0.7803 - val_loss: 0.5592 - val_accuracy: 0.7826\n",
            "Epoch 4/30\n",
            "284686/284686 [==============================] - 371s 1ms/step - loss: 0.5139 - accuracy: 0.8037 - val_loss: 0.5357 - val_accuracy: 0.7957\n",
            "Epoch 5/30\n",
            "284686/284686 [==============================] - 366s 1ms/step - loss: 0.4753 - accuracy: 0.8198 - val_loss: 0.5059 - val_accuracy: 0.8111\n",
            "Epoch 6/30\n",
            "284686/284686 [==============================] - 373s 1ms/step - loss: 0.4446 - accuracy: 0.8318 - val_loss: 0.5007 - val_accuracy: 0.8182\n",
            "Epoch 7/30\n",
            "284686/284686 [==============================] - 373s 1ms/step - loss: 0.4226 - accuracy: 0.8415 - val_loss: 0.4872 - val_accuracy: 0.8237\n",
            "Epoch 8/30\n",
            "284686/284686 [==============================] - 368s 1ms/step - loss: 0.4028 - accuracy: 0.8488 - val_loss: 0.4801 - val_accuracy: 0.8277\n",
            "Epoch 9/30\n",
            "284686/284686 [==============================] - 377s 1ms/step - loss: 0.3869 - accuracy: 0.8553 - val_loss: 0.4765 - val_accuracy: 0.8354\n",
            "Epoch 10/30\n",
            "284686/284686 [==============================] - 378s 1ms/step - loss: 0.3736 - accuracy: 0.8602 - val_loss: 0.4737 - val_accuracy: 0.8374\n",
            "Epoch 11/30\n",
            "284686/284686 [==============================] - 371s 1ms/step - loss: 0.3621 - accuracy: 0.8645 - val_loss: 0.4685 - val_accuracy: 0.8431\n",
            "Epoch 12/30\n",
            "284686/284686 [==============================] - 369s 1ms/step - loss: 0.3495 - accuracy: 0.8695 - val_loss: 0.4778 - val_accuracy: 0.8399\n",
            "Epoch 13/30\n",
            "284686/284686 [==============================] - 370s 1ms/step - loss: 0.3407 - accuracy: 0.8728 - val_loss: 0.4787 - val_accuracy: 0.8401\n",
            "Epoch 14/30\n",
            "284686/284686 [==============================] - 369s 1ms/step - loss: 0.3305 - accuracy: 0.8768 - val_loss: 0.4796 - val_accuracy: 0.8451\n",
            "Epoch 15/30\n",
            "284686/284686 [==============================] - 372s 1ms/step - loss: 0.3237 - accuracy: 0.8787 - val_loss: 0.4773 - val_accuracy: 0.8484\n",
            "Epoch 16/30\n",
            "284686/284686 [==============================] - 367s 1ms/step - loss: 0.3160 - accuracy: 0.8819 - val_loss: 0.4758 - val_accuracy: 0.8502\n",
            "Epoch 17/30\n",
            "284686/284686 [==============================] - 353s 1ms/step - loss: 0.3109 - accuracy: 0.8836 - val_loss: 0.4844 - val_accuracy: 0.8508\n",
            "Epoch 18/30\n",
            "284686/284686 [==============================] - 362s 1ms/step - loss: 0.3037 - accuracy: 0.8863 - val_loss: 0.4890 - val_accuracy: 0.8502\n",
            "Epoch 19/30\n",
            "284686/284686 [==============================] - 361s 1ms/step - loss: 0.3003 - accuracy: 0.8876 - val_loss: 0.5005 - val_accuracy: 0.8502\n",
            "Epoch 20/30\n",
            "284686/284686 [==============================] - 356s 1ms/step - loss: 0.2940 - accuracy: 0.8904 - val_loss: 0.4907 - val_accuracy: 0.8558\n",
            "Epoch 21/30\n",
            "284686/284686 [==============================] - 362s 1ms/step - loss: 0.2905 - accuracy: 0.8918 - val_loss: 0.4971 - val_accuracy: 0.8559\n",
            "Epoch 22/30\n",
            "284686/284686 [==============================] - 355s 1ms/step - loss: 0.2860 - accuracy: 0.8934 - val_loss: 0.4938 - val_accuracy: 0.8553\n",
            "Epoch 23/30\n",
            "284686/284686 [==============================] - 360s 1ms/step - loss: 0.2807 - accuracy: 0.8951 - val_loss: 0.4991 - val_accuracy: 0.8545\n",
            "Epoch 24/30\n",
            "284686/284686 [==============================] - 363s 1ms/step - loss: 0.2777 - accuracy: 0.8961 - val_loss: 0.5012 - val_accuracy: 0.8586\n",
            "Epoch 25/30\n",
            "284686/284686 [==============================] - 357s 1ms/step - loss: 0.2732 - accuracy: 0.8980 - val_loss: 0.4961 - val_accuracy: 0.8571\n",
            "Epoch 26/30\n",
            "284686/284686 [==============================] - 367s 1ms/step - loss: 0.2703 - accuracy: 0.8989 - val_loss: 0.5090 - val_accuracy: 0.8579\n",
            "Epoch 27/30\n",
            "284686/284686 [==============================] - 368s 1ms/step - loss: 0.2680 - accuracy: 0.9007 - val_loss: 0.4888 - val_accuracy: 0.8604\n",
            "Epoch 28/30\n",
            "284686/284686 [==============================] - 373s 1ms/step - loss: 0.2656 - accuracy: 0.9004 - val_loss: 0.5026 - val_accuracy: 0.8587\n",
            "Epoch 29/30\n",
            "284686/284686 [==============================] - 369s 1ms/step - loss: 0.2622 - accuracy: 0.9016 - val_loss: 0.5051 - val_accuracy: 0.8590\n",
            "Epoch 30/30\n",
            "284686/284686 [==============================] - 366s 1ms/step - loss: 0.2584 - accuracy: 0.9029 - val_loss: 0.5154 - val_accuracy: 0.8596\n",
            "CPU times: user 5h 11min 41s, sys: 16min 22s, total: 5h 28min 3s\n",
            "Wall time: 3h 3min 4s\n"
          ],
          "name": "stdout"
        },
        {
          "output_type": "execute_result",
          "data": {
            "text/plain": [
              "<keras.callbacks.callbacks.History at 0x7ff5dedd3ef0>"
            ]
          },
          "metadata": {
            "tags": []
          },
          "execution_count": 38
        }
      ]
    },
    {
      "cell_type": "code",
      "metadata": {
        "id": "KfOMRllMrVQ2",
        "colab_type": "code",
        "colab": {}
      },
      "source": [
        "y_pred=model2.predict_classes(X_val)"
      ],
      "execution_count": 0,
      "outputs": []
    },
    {
      "cell_type": "code",
      "metadata": {
        "id": "LXK1QF3ZrYt9",
        "colab_type": "code",
        "colab": {}
      },
      "source": [
        "accuracy_score(y_pred,Y_val_rev)"
      ],
      "execution_count": 0,
      "outputs": []
    }
  ]
}